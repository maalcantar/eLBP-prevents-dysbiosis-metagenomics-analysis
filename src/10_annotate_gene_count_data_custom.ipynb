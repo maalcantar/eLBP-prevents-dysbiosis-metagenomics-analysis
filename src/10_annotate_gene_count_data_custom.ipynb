{
 "cells": [
  {
   "cell_type": "code",
   "execution_count": 1,
   "metadata": {},
   "outputs": [],
   "source": [
    "import pandas as pd"
   ]
  },
  {
   "cell_type": "code",
   "execution_count": 2,
   "metadata": {},
   "outputs": [],
   "source": [
    "def update_gene_names(gene_mat_path, save=True):\n",
    "    \n",
    "    \"\"\"\n",
    "    goes through CARD gene annotation created by bowtie mapping, and extracts gene name\n",
    "    this also removes special characters from gene name (e.g. remove parentheses) in order to make it compatible with R code\n",
    "    \n",
    "    parameters\n",
    "    gene_mat_path: str\n",
    "        path to gene matrix where CARD gene annotations are rows, samples are columns, and elements\n",
    "        denote number of mapped reads\n",
    "        \n",
    "    returns\n",
    "    gene_mat_df: pandas dataframe\n",
    "         updated gene count matrix with new gene names\n",
    "    gene_mat_df: boolean\n",
    "        genes with same base_name\n",
    "    \"\"\"\n",
    "\n",
    "    # load original gene count matrix and initialize list that will contain new gene names\n",
    "    gene_mat_df = pd.read_csv(gene_mat_path, sep='\\t',index_col=0, header=None)\n",
    "    updated_gene_list = []\n",
    "    repeated_genes = []\n",
    "    \n",
    "    # load metadata to replace header name\n",
    "    metadata = pd.read_csv('../data/metagenomics_metadata_v2.txt', '\\t')\n",
    "    sample_id = list(metadata['sample_id'])\n",
    "    \n",
    "    gene_mat_df = gene_mat_df.rename(columns = dict(zip(gene_mat_df.columns, sample_id)))\n",
    "\n",
    "    \n",
    "    # extract gene name only; if gene name already in list, add '_' with number of previous occurances (+1)\n",
    "    for gene_annotation in gene_mat_df.index:\n",
    "        \n",
    "        # replacing certain characters in order to make compatible with R programming language\n",
    "        gene_name = gene_annotation.split('|')[-1].replace(\"'\",\"\").replace('-',\"_\").replace(\" \",\"_\").replace('(', \"_\").replace(')',\"_\").replace(\"/\",\"_\")\n",
    "        \n",
    "        if gene_name in updated_gene_list:\n",
    "            \n",
    "            num_prev_occur = sum(gene_name in gene for gene in updated_gene_list)\n",
    "            updated_gene_list.append(gene_name + '_' + str(num_prev_occur+1))\n",
    "            repeated_genes.append(gene_name + '_' + str(num_prev_occur+1))\n",
    "        else:\n",
    "            updated_gene_list.append(gene_name)\n",
    "\n",
    "    gene_mat_df = gene_mat_df.rename(index = dict(zip(gene_mat_df.index, updated_gene_list))) \n",
    "    \n",
    "    if save:\n",
    "        gene_mat_df.to_csv('../data/custom_card_db_data/gene_counts_final_custom.csv')\n",
    "        gene_mat_df.to_csv('../data/custom_card_db_data/gene_counts_final_custom.tsv', sep='\\t')\n",
    "        \n",
    "    return gene_mat_df,repeated_genes\n"
   ]
  },
  {
   "cell_type": "code",
   "execution_count": 3,
   "metadata": {},
   "outputs": [],
   "source": [
    "gene_mat_path = '../data/custom_card_db_data/gene_mat_all_no_len_custom.tsv'\n",
    "gene_counts_df,repeated_genes = update_gene_names(gene_mat_path, save=True)"
   ]
  },
  {
   "cell_type": "code",
   "execution_count": 4,
   "metadata": {},
   "outputs": [],
   "source": [
    "gene_mat_df = pd.read_csv(gene_mat_path, sep='\\t',index_col=0, header=None)"
   ]
  }
 ],
 "metadata": {
  "kernelspec": {
   "display_name": "Python 3",
   "language": "python",
   "name": "python3"
  },
  "language_info": {
   "codemirror_mode": {
    "name": "ipython",
    "version": 3
   },
   "file_extension": ".py",
   "mimetype": "text/x-python",
   "name": "python",
   "nbconvert_exporter": "python",
   "pygments_lexer": "ipython3",
   "version": "3.7.4"
  }
 },
 "nbformat": 4,
 "nbformat_minor": 2
}
